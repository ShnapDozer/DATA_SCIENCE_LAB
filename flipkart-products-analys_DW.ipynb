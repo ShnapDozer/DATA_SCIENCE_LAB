{
 "cells": [
  {
   "cell_type": "markdown",
   "id": "efe87e45",
   "metadata": {},
   "source": [
    "### Recommendation System for E-commerce"
   ]
  },
  {
   "cell_type": "code",
   "execution_count": 26,
   "id": "d74be88a",
   "metadata": {},
   "outputs": [],
   "source": [
    "import pandas as pd\n",
    "import numpy as np\n",
    "from sklearn.metrics.pairwise import cosine_similarity\n",
    "from sklearn.neighbors import NearestNeighbors\n",
    "from sklearn.feature_extraction.text import TfidfVectorizer\n",
    "import matplotlib.pyplot as plt\n",
    "import seaborn as sns\n",
    "from sklearn.model_selection import train_test_split\n",
    "from sklearn.impute import SimpleImputer\n",
    "from sklearn.preprocessing import LabelEncoder, StandardScaler\n",
    "from sklearn.neighbors import KNeighborsClassifier\n",
    "from sklearn.metrics import accuracy_score\n",
    "from sklearn.metrics import confusion_matrix\n",
    "from sklearn.preprocessing import LabelEncoder"
   ]
  },
  {
   "cell_type": "code",
   "execution_count": 2,
   "id": "045798b5",
   "metadata": {},
   "outputs": [],
   "source": [
    "df=pd.read_csv(\"/home/rewood/Desktop/Untitled Folder/flipkart-products/flipkart_com-ecommerce_sample.csv\")"
   ]
  },
  {
   "cell_type": "code",
   "execution_count": 3,
   "id": "96ec8e6f",
   "metadata": {},
   "outputs": [
    {
     "data": {
      "text/html": [
       "<div>\n",
       "<style scoped>\n",
       "    .dataframe tbody tr th:only-of-type {\n",
       "        vertical-align: middle;\n",
       "    }\n",
       "\n",
       "    .dataframe tbody tr th {\n",
       "        vertical-align: top;\n",
       "    }\n",
       "\n",
       "    .dataframe thead th {\n",
       "        text-align: right;\n",
       "    }\n",
       "</style>\n",
       "<table border=\"1\" class=\"dataframe\">\n",
       "  <thead>\n",
       "    <tr style=\"text-align: right;\">\n",
       "      <th></th>\n",
       "      <th>uniq_id</th>\n",
       "      <th>crawl_timestamp</th>\n",
       "      <th>product_url</th>\n",
       "      <th>product_name</th>\n",
       "      <th>product_category_tree</th>\n",
       "      <th>pid</th>\n",
       "      <th>retail_price</th>\n",
       "      <th>discounted_price</th>\n",
       "      <th>image</th>\n",
       "      <th>is_FK_Advantage_product</th>\n",
       "      <th>description</th>\n",
       "      <th>product_rating</th>\n",
       "      <th>overall_rating</th>\n",
       "      <th>brand</th>\n",
       "      <th>product_specifications</th>\n",
       "    </tr>\n",
       "  </thead>\n",
       "  <tbody>\n",
       "    <tr>\n",
       "      <th>0</th>\n",
       "      <td>c2d766ca982eca8304150849735ffef9</td>\n",
       "      <td>2016-03-25 22:59:23 +0000</td>\n",
       "      <td>http://www.flipkart.com/alisha-solid-women-s-c...</td>\n",
       "      <td>Alisha Solid Women's Cycling Shorts</td>\n",
       "      <td>[\"Clothing &gt;&gt; Women's Clothing &gt;&gt; Lingerie, Sl...</td>\n",
       "      <td>SRTEH2FF9KEDEFGF</td>\n",
       "      <td>999.0</td>\n",
       "      <td>379.0</td>\n",
       "      <td>[\"http://img5a.flixcart.com/image/short/u/4/a/...</td>\n",
       "      <td>False</td>\n",
       "      <td>Key Features of Alisha Solid Women's Cycling S...</td>\n",
       "      <td>No rating available</td>\n",
       "      <td>No rating available</td>\n",
       "      <td>Alisha</td>\n",
       "      <td>{\"product_specification\"=&gt;[{\"key\"=&gt;\"Number of ...</td>\n",
       "    </tr>\n",
       "    <tr>\n",
       "      <th>1</th>\n",
       "      <td>7f7036a6d550aaa89d34c77bd39a5e48</td>\n",
       "      <td>2016-03-25 22:59:23 +0000</td>\n",
       "      <td>http://www.flipkart.com/fabhomedecor-fabric-do...</td>\n",
       "      <td>FabHomeDecor Fabric Double Sofa Bed</td>\n",
       "      <td>[\"Furniture &gt;&gt; Living Room Furniture &gt;&gt; Sofa B...</td>\n",
       "      <td>SBEEH3QGU7MFYJFY</td>\n",
       "      <td>32157.0</td>\n",
       "      <td>22646.0</td>\n",
       "      <td>[\"http://img6a.flixcart.com/image/sofa-bed/j/f...</td>\n",
       "      <td>False</td>\n",
       "      <td>FabHomeDecor Fabric Double Sofa Bed (Finish Co...</td>\n",
       "      <td>No rating available</td>\n",
       "      <td>No rating available</td>\n",
       "      <td>FabHomeDecor</td>\n",
       "      <td>{\"product_specification\"=&gt;[{\"key\"=&gt;\"Installati...</td>\n",
       "    </tr>\n",
       "    <tr>\n",
       "      <th>2</th>\n",
       "      <td>f449ec65dcbc041b6ae5e6a32717d01b</td>\n",
       "      <td>2016-03-25 22:59:23 +0000</td>\n",
       "      <td>http://www.flipkart.com/aw-bellies/p/itmeh4grg...</td>\n",
       "      <td>AW Bellies</td>\n",
       "      <td>[\"Footwear &gt;&gt; Women's Footwear &gt;&gt; Ballerinas &gt;...</td>\n",
       "      <td>SHOEH4GRSUBJGZXE</td>\n",
       "      <td>999.0</td>\n",
       "      <td>499.0</td>\n",
       "      <td>[\"http://img5a.flixcart.com/image/shoe/7/z/z/r...</td>\n",
       "      <td>False</td>\n",
       "      <td>Key Features of AW Bellies Sandals Wedges Heel...</td>\n",
       "      <td>No rating available</td>\n",
       "      <td>No rating available</td>\n",
       "      <td>AW</td>\n",
       "      <td>{\"product_specification\"=&gt;[{\"key\"=&gt;\"Ideal For\"...</td>\n",
       "    </tr>\n",
       "    <tr>\n",
       "      <th>3</th>\n",
       "      <td>0973b37acd0c664e3de26e97e5571454</td>\n",
       "      <td>2016-03-25 22:59:23 +0000</td>\n",
       "      <td>http://www.flipkart.com/alisha-solid-women-s-c...</td>\n",
       "      <td>Alisha Solid Women's Cycling Shorts</td>\n",
       "      <td>[\"Clothing &gt;&gt; Women's Clothing &gt;&gt; Lingerie, Sl...</td>\n",
       "      <td>SRTEH2F6HUZMQ6SJ</td>\n",
       "      <td>699.0</td>\n",
       "      <td>267.0</td>\n",
       "      <td>[\"http://img5a.flixcart.com/image/short/6/2/h/...</td>\n",
       "      <td>False</td>\n",
       "      <td>Key Features of Alisha Solid Women's Cycling S...</td>\n",
       "      <td>No rating available</td>\n",
       "      <td>No rating available</td>\n",
       "      <td>Alisha</td>\n",
       "      <td>{\"product_specification\"=&gt;[{\"key\"=&gt;\"Number of ...</td>\n",
       "    </tr>\n",
       "    <tr>\n",
       "      <th>4</th>\n",
       "      <td>bc940ea42ee6bef5ac7cea3fb5cfbee7</td>\n",
       "      <td>2016-03-25 22:59:23 +0000</td>\n",
       "      <td>http://www.flipkart.com/sicons-all-purpose-arn...</td>\n",
       "      <td>Sicons All Purpose Arnica Dog Shampoo</td>\n",
       "      <td>[\"Pet Supplies &gt;&gt; Grooming &gt;&gt; Skin &amp; Coat Care...</td>\n",
       "      <td>PSOEH3ZYDMSYARJ5</td>\n",
       "      <td>220.0</td>\n",
       "      <td>210.0</td>\n",
       "      <td>[\"http://img5a.flixcart.com/image/pet-shampoo/...</td>\n",
       "      <td>False</td>\n",
       "      <td>Specifications of Sicons All Purpose Arnica Do...</td>\n",
       "      <td>No rating available</td>\n",
       "      <td>No rating available</td>\n",
       "      <td>Sicons</td>\n",
       "      <td>{\"product_specification\"=&gt;[{\"key\"=&gt;\"Pet Type\",...</td>\n",
       "    </tr>\n",
       "  </tbody>\n",
       "</table>\n",
       "</div>"
      ],
      "text/plain": [
       "                            uniq_id            crawl_timestamp  \\\n",
       "0  c2d766ca982eca8304150849735ffef9  2016-03-25 22:59:23 +0000   \n",
       "1  7f7036a6d550aaa89d34c77bd39a5e48  2016-03-25 22:59:23 +0000   \n",
       "2  f449ec65dcbc041b6ae5e6a32717d01b  2016-03-25 22:59:23 +0000   \n",
       "3  0973b37acd0c664e3de26e97e5571454  2016-03-25 22:59:23 +0000   \n",
       "4  bc940ea42ee6bef5ac7cea3fb5cfbee7  2016-03-25 22:59:23 +0000   \n",
       "\n",
       "                                         product_url  \\\n",
       "0  http://www.flipkart.com/alisha-solid-women-s-c...   \n",
       "1  http://www.flipkart.com/fabhomedecor-fabric-do...   \n",
       "2  http://www.flipkart.com/aw-bellies/p/itmeh4grg...   \n",
       "3  http://www.flipkart.com/alisha-solid-women-s-c...   \n",
       "4  http://www.flipkart.com/sicons-all-purpose-arn...   \n",
       "\n",
       "                            product_name  \\\n",
       "0    Alisha Solid Women's Cycling Shorts   \n",
       "1    FabHomeDecor Fabric Double Sofa Bed   \n",
       "2                             AW Bellies   \n",
       "3    Alisha Solid Women's Cycling Shorts   \n",
       "4  Sicons All Purpose Arnica Dog Shampoo   \n",
       "\n",
       "                               product_category_tree               pid  \\\n",
       "0  [\"Clothing >> Women's Clothing >> Lingerie, Sl...  SRTEH2FF9KEDEFGF   \n",
       "1  [\"Furniture >> Living Room Furniture >> Sofa B...  SBEEH3QGU7MFYJFY   \n",
       "2  [\"Footwear >> Women's Footwear >> Ballerinas >...  SHOEH4GRSUBJGZXE   \n",
       "3  [\"Clothing >> Women's Clothing >> Lingerie, Sl...  SRTEH2F6HUZMQ6SJ   \n",
       "4  [\"Pet Supplies >> Grooming >> Skin & Coat Care...  PSOEH3ZYDMSYARJ5   \n",
       "\n",
       "   retail_price  discounted_price  \\\n",
       "0         999.0             379.0   \n",
       "1       32157.0           22646.0   \n",
       "2         999.0             499.0   \n",
       "3         699.0             267.0   \n",
       "4         220.0             210.0   \n",
       "\n",
       "                                               image  is_FK_Advantage_product  \\\n",
       "0  [\"http://img5a.flixcart.com/image/short/u/4/a/...                    False   \n",
       "1  [\"http://img6a.flixcart.com/image/sofa-bed/j/f...                    False   \n",
       "2  [\"http://img5a.flixcart.com/image/shoe/7/z/z/r...                    False   \n",
       "3  [\"http://img5a.flixcart.com/image/short/6/2/h/...                    False   \n",
       "4  [\"http://img5a.flixcart.com/image/pet-shampoo/...                    False   \n",
       "\n",
       "                                         description       product_rating  \\\n",
       "0  Key Features of Alisha Solid Women's Cycling S...  No rating available   \n",
       "1  FabHomeDecor Fabric Double Sofa Bed (Finish Co...  No rating available   \n",
       "2  Key Features of AW Bellies Sandals Wedges Heel...  No rating available   \n",
       "3  Key Features of Alisha Solid Women's Cycling S...  No rating available   \n",
       "4  Specifications of Sicons All Purpose Arnica Do...  No rating available   \n",
       "\n",
       "        overall_rating         brand  \\\n",
       "0  No rating available        Alisha   \n",
       "1  No rating available  FabHomeDecor   \n",
       "2  No rating available            AW   \n",
       "3  No rating available        Alisha   \n",
       "4  No rating available        Sicons   \n",
       "\n",
       "                              product_specifications  \n",
       "0  {\"product_specification\"=>[{\"key\"=>\"Number of ...  \n",
       "1  {\"product_specification\"=>[{\"key\"=>\"Installati...  \n",
       "2  {\"product_specification\"=>[{\"key\"=>\"Ideal For\"...  \n",
       "3  {\"product_specification\"=>[{\"key\"=>\"Number of ...  \n",
       "4  {\"product_specification\"=>[{\"key\"=>\"Pet Type\",...  "
      ]
     },
     "execution_count": 3,
     "metadata": {},
     "output_type": "execute_result"
    }
   ],
   "source": [
    "df.head()"
   ]
  },
  {
   "cell_type": "code",
   "execution_count": 4,
   "id": "86ac80f9",
   "metadata": {},
   "outputs": [
    {
     "name": "stdout",
     "output_type": "stream",
     "text": [
      "<class 'pandas.core.frame.DataFrame'>\n",
      "RangeIndex: 20000 entries, 0 to 19999\n",
      "Data columns (total 15 columns):\n",
      " #   Column                   Non-Null Count  Dtype  \n",
      "---  ------                   --------------  -----  \n",
      " 0   uniq_id                  20000 non-null  object \n",
      " 1   crawl_timestamp          20000 non-null  object \n",
      " 2   product_url              20000 non-null  object \n",
      " 3   product_name             20000 non-null  object \n",
      " 4   product_category_tree    20000 non-null  object \n",
      " 5   pid                      20000 non-null  object \n",
      " 6   retail_price             19922 non-null  float64\n",
      " 7   discounted_price         19922 non-null  float64\n",
      " 8   image                    19997 non-null  object \n",
      " 9   is_FK_Advantage_product  20000 non-null  bool   \n",
      " 10  description              19998 non-null  object \n",
      " 11  product_rating           20000 non-null  object \n",
      " 12  overall_rating           20000 non-null  object \n",
      " 13  brand                    14136 non-null  object \n",
      " 14  product_specifications   19986 non-null  object \n",
      "dtypes: bool(1), float64(2), object(12)\n",
      "memory usage: 2.2+ MB\n"
     ]
    }
   ],
   "source": [
    "df.info()"
   ]
  },
  {
   "cell_type": "code",
   "execution_count": 5,
   "id": "d7969b85",
   "metadata": {},
   "outputs": [
    {
     "data": {
      "text/html": [
       "<div>\n",
       "<style scoped>\n",
       "    .dataframe tbody tr th:only-of-type {\n",
       "        vertical-align: middle;\n",
       "    }\n",
       "\n",
       "    .dataframe tbody tr th {\n",
       "        vertical-align: top;\n",
       "    }\n",
       "\n",
       "    .dataframe thead th {\n",
       "        text-align: right;\n",
       "    }\n",
       "</style>\n",
       "<table border=\"1\" class=\"dataframe\">\n",
       "  <thead>\n",
       "    <tr style=\"text-align: right;\">\n",
       "      <th></th>\n",
       "      <th>retail_price</th>\n",
       "      <th>discounted_price</th>\n",
       "    </tr>\n",
       "  </thead>\n",
       "  <tbody>\n",
       "    <tr>\n",
       "      <th>count</th>\n",
       "      <td>19922.000000</td>\n",
       "      <td>19922.000000</td>\n",
       "    </tr>\n",
       "    <tr>\n",
       "      <th>mean</th>\n",
       "      <td>2979.206104</td>\n",
       "      <td>1973.401767</td>\n",
       "    </tr>\n",
       "    <tr>\n",
       "      <th>std</th>\n",
       "      <td>9009.639341</td>\n",
       "      <td>7333.586040</td>\n",
       "    </tr>\n",
       "    <tr>\n",
       "      <th>min</th>\n",
       "      <td>35.000000</td>\n",
       "      <td>35.000000</td>\n",
       "    </tr>\n",
       "    <tr>\n",
       "      <th>25%</th>\n",
       "      <td>666.000000</td>\n",
       "      <td>350.000000</td>\n",
       "    </tr>\n",
       "    <tr>\n",
       "      <th>50%</th>\n",
       "      <td>1040.000000</td>\n",
       "      <td>550.000000</td>\n",
       "    </tr>\n",
       "    <tr>\n",
       "      <th>75%</th>\n",
       "      <td>1999.000000</td>\n",
       "      <td>999.000000</td>\n",
       "    </tr>\n",
       "    <tr>\n",
       "      <th>max</th>\n",
       "      <td>571230.000000</td>\n",
       "      <td>571230.000000</td>\n",
       "    </tr>\n",
       "  </tbody>\n",
       "</table>\n",
       "</div>"
      ],
      "text/plain": [
       "        retail_price  discounted_price\n",
       "count   19922.000000      19922.000000\n",
       "mean     2979.206104       1973.401767\n",
       "std      9009.639341       7333.586040\n",
       "min        35.000000         35.000000\n",
       "25%       666.000000        350.000000\n",
       "50%      1040.000000        550.000000\n",
       "75%      1999.000000        999.000000\n",
       "max    571230.000000     571230.000000"
      ]
     },
     "execution_count": 5,
     "metadata": {},
     "output_type": "execute_result"
    }
   ],
   "source": [
    "df.describe()"
   ]
  },
  {
   "cell_type": "markdown",
   "id": "976a575f",
   "metadata": {},
   "source": [
    "## Detect missing values"
   ]
  },
  {
   "cell_type": "code",
   "execution_count": 6,
   "id": "bb393685",
   "metadata": {},
   "outputs": [
    {
     "data": {
      "text/plain": [
       "uniq_id                       0\n",
       "crawl_timestamp               0\n",
       "product_url                   0\n",
       "product_name                  0\n",
       "product_category_tree         0\n",
       "pid                           0\n",
       "retail_price                 78\n",
       "discounted_price             78\n",
       "image                         3\n",
       "is_FK_Advantage_product       0\n",
       "description                   2\n",
       "product_rating                0\n",
       "overall_rating                0\n",
       "brand                      5864\n",
       "product_specifications       14\n",
       "dtype: int64"
      ]
     },
     "execution_count": 6,
     "metadata": {},
     "output_type": "execute_result"
    }
   ],
   "source": [
    "df.isnull().sum()"
   ]
  },
  {
   "cell_type": "code",
   "execution_count": 7,
   "id": "2f4d9ad2",
   "metadata": {},
   "outputs": [
    {
     "data": {
      "text/plain": [
       "uniq_id                     0.000\n",
       "crawl_timestamp             0.000\n",
       "product_url                 0.000\n",
       "product_name                0.000\n",
       "product_category_tree       0.000\n",
       "pid                         0.000\n",
       "retail_price                0.390\n",
       "discounted_price            0.390\n",
       "image                       0.015\n",
       "is_FK_Advantage_product     0.000\n",
       "description                 0.010\n",
       "product_rating              0.000\n",
       "overall_rating              0.000\n",
       "brand                      29.320\n",
       "product_specifications      0.070\n",
       "dtype: float64"
      ]
     },
     "execution_count": 7,
     "metadata": {},
     "output_type": "execute_result"
    }
   ],
   "source": [
    "df.isnull().mean() * 100"
   ]
  },
  {
   "cell_type": "markdown",
   "id": "e6a1d4b3",
   "metadata": {},
   "source": [
    "We have about 30% missing values because of col brand, fill it with \"Noname\" brand. Drop other rows with missing values"
   ]
  },
  {
   "cell_type": "code",
   "execution_count": 8,
   "id": "2a82a451",
   "metadata": {},
   "outputs": [],
   "source": [
    "df['brand'].fillna('NoName', inplace=True)\n",
    "df.dropna(inplace=True)"
   ]
  },
  {
   "cell_type": "code",
   "execution_count": 9,
   "id": "7d29a695",
   "metadata": {},
   "outputs": [
    {
     "data": {
      "text/plain": [
       "uniq_id                    0.0\n",
       "crawl_timestamp            0.0\n",
       "product_url                0.0\n",
       "product_name               0.0\n",
       "product_category_tree      0.0\n",
       "pid                        0.0\n",
       "retail_price               0.0\n",
       "discounted_price           0.0\n",
       "image                      0.0\n",
       "is_FK_Advantage_product    0.0\n",
       "description                0.0\n",
       "product_rating             0.0\n",
       "overall_rating             0.0\n",
       "brand                      0.0\n",
       "product_specifications     0.0\n",
       "dtype: float64"
      ]
     },
     "execution_count": 9,
     "metadata": {},
     "output_type": "execute_result"
    }
   ],
   "source": [
    "df.isnull().mean() * 100"
   ]
  },
  {
   "cell_type": "code",
   "execution_count": 10,
   "id": "5cffeb68",
   "metadata": {},
   "outputs": [],
   "source": [
    "df['overall_rating'] = pd.to_numeric(df['overall_rating'], errors='coerce') # Preprocess overall_rating (convert to numeric)\n",
    "df['description'] = df['description'].fillna('') # Fill missing descriptions with empty strings"
   ]
  },
  {
   "cell_type": "markdown",
   "id": "dccb3925",
   "metadata": {},
   "source": [
    "## Handle Duplicates"
   ]
  },
  {
   "cell_type": "code",
   "execution_count": 11,
   "id": "ff5e1688",
   "metadata": {},
   "outputs": [
    {
     "data": {
      "text/plain": [
       "0"
      ]
     },
     "execution_count": 11,
     "metadata": {},
     "output_type": "execute_result"
    }
   ],
   "source": [
    "df.duplicated().sum()"
   ]
  },
  {
   "cell_type": "markdown",
   "id": "4d2097c7",
   "metadata": {},
   "source": [
    "We dont have duplicated, but for test remove it."
   ]
  },
  {
   "cell_type": "code",
   "execution_count": 12,
   "id": "7d8d502e",
   "metadata": {},
   "outputs": [],
   "source": [
    "df.drop_duplicates(inplace=True)"
   ]
  },
  {
   "cell_type": "markdown",
   "id": "0444b5d7",
   "metadata": {},
   "source": [
    "## Handle Inconsistent Data"
   ]
  },
  {
   "cell_type": "code",
   "execution_count": 13,
   "id": "d1151e99",
   "metadata": {},
   "outputs": [],
   "source": [
    "for i in list(df.columns):\n",
    "    if df.dtypes[i] == pd.StringDtype:\n",
    "        df[i] = df[i].str.lower() # Convert column to consistent lowercase\n",
    "        df[i] = df[i].str.strip() # Remove leading/trailing spaces"
   ]
  },
  {
   "cell_type": "code",
   "execution_count": 14,
   "id": "2f5d30c5",
   "metadata": {},
   "outputs": [
    {
     "data": {
      "text/html": [
       "<div>\n",
       "<style scoped>\n",
       "    .dataframe tbody tr th:only-of-type {\n",
       "        vertical-align: middle;\n",
       "    }\n",
       "\n",
       "    .dataframe tbody tr th {\n",
       "        vertical-align: top;\n",
       "    }\n",
       "\n",
       "    .dataframe thead th {\n",
       "        text-align: right;\n",
       "    }\n",
       "</style>\n",
       "<table border=\"1\" class=\"dataframe\">\n",
       "  <thead>\n",
       "    <tr style=\"text-align: right;\">\n",
       "      <th></th>\n",
       "      <th>uniq_id</th>\n",
       "      <th>crawl_timestamp</th>\n",
       "      <th>product_url</th>\n",
       "      <th>product_name</th>\n",
       "      <th>product_category_tree</th>\n",
       "      <th>pid</th>\n",
       "      <th>retail_price</th>\n",
       "      <th>discounted_price</th>\n",
       "      <th>image</th>\n",
       "      <th>is_FK_Advantage_product</th>\n",
       "      <th>description</th>\n",
       "      <th>product_rating</th>\n",
       "      <th>overall_rating</th>\n",
       "      <th>brand</th>\n",
       "      <th>product_specifications</th>\n",
       "    </tr>\n",
       "  </thead>\n",
       "  <tbody>\n",
       "    <tr>\n",
       "      <th>0</th>\n",
       "      <td>c2d766ca982eca8304150849735ffef9</td>\n",
       "      <td>2016-03-25 22:59:23 +0000</td>\n",
       "      <td>http://www.flipkart.com/alisha-solid-women-s-c...</td>\n",
       "      <td>alisha solid women's cycling shorts</td>\n",
       "      <td>[\"clothing &gt;&gt; women's clothing &gt;&gt; lingerie, sl...</td>\n",
       "      <td>srteh2ff9kedefgf</td>\n",
       "      <td>999.0</td>\n",
       "      <td>379.0</td>\n",
       "      <td>[\"http://img5a.flixcart.com/image/short/u/4/a/...</td>\n",
       "      <td>False</td>\n",
       "      <td>key features of alisha solid women's cycling s...</td>\n",
       "      <td>no rating available</td>\n",
       "      <td>NaN</td>\n",
       "      <td>alisha</td>\n",
       "      <td>{\"product_specification\"=&gt;[{\"key\"=&gt;\"number of ...</td>\n",
       "    </tr>\n",
       "    <tr>\n",
       "      <th>1</th>\n",
       "      <td>7f7036a6d550aaa89d34c77bd39a5e48</td>\n",
       "      <td>2016-03-25 22:59:23 +0000</td>\n",
       "      <td>http://www.flipkart.com/fabhomedecor-fabric-do...</td>\n",
       "      <td>fabhomedecor fabric double sofa bed</td>\n",
       "      <td>[\"furniture &gt;&gt; living room furniture &gt;&gt; sofa b...</td>\n",
       "      <td>sbeeh3qgu7mfyjfy</td>\n",
       "      <td>32157.0</td>\n",
       "      <td>22646.0</td>\n",
       "      <td>[\"http://img6a.flixcart.com/image/sofa-bed/j/f...</td>\n",
       "      <td>False</td>\n",
       "      <td>fabhomedecor fabric double sofa bed (finish co...</td>\n",
       "      <td>no rating available</td>\n",
       "      <td>NaN</td>\n",
       "      <td>fabhomedecor</td>\n",
       "      <td>{\"product_specification\"=&gt;[{\"key\"=&gt;\"installati...</td>\n",
       "    </tr>\n",
       "    <tr>\n",
       "      <th>2</th>\n",
       "      <td>f449ec65dcbc041b6ae5e6a32717d01b</td>\n",
       "      <td>2016-03-25 22:59:23 +0000</td>\n",
       "      <td>http://www.flipkart.com/aw-bellies/p/itmeh4grg...</td>\n",
       "      <td>aw bellies</td>\n",
       "      <td>[\"footwear &gt;&gt; women's footwear &gt;&gt; ballerinas &gt;...</td>\n",
       "      <td>shoeh4grsubjgzxe</td>\n",
       "      <td>999.0</td>\n",
       "      <td>499.0</td>\n",
       "      <td>[\"http://img5a.flixcart.com/image/shoe/7/z/z/r...</td>\n",
       "      <td>False</td>\n",
       "      <td>key features of aw bellies sandals wedges heel...</td>\n",
       "      <td>no rating available</td>\n",
       "      <td>NaN</td>\n",
       "      <td>aw</td>\n",
       "      <td>{\"product_specification\"=&gt;[{\"key\"=&gt;\"ideal for\"...</td>\n",
       "    </tr>\n",
       "    <tr>\n",
       "      <th>3</th>\n",
       "      <td>0973b37acd0c664e3de26e97e5571454</td>\n",
       "      <td>2016-03-25 22:59:23 +0000</td>\n",
       "      <td>http://www.flipkart.com/alisha-solid-women-s-c...</td>\n",
       "      <td>alisha solid women's cycling shorts</td>\n",
       "      <td>[\"clothing &gt;&gt; women's clothing &gt;&gt; lingerie, sl...</td>\n",
       "      <td>srteh2f6huzmq6sj</td>\n",
       "      <td>699.0</td>\n",
       "      <td>267.0</td>\n",
       "      <td>[\"http://img5a.flixcart.com/image/short/6/2/h/...</td>\n",
       "      <td>False</td>\n",
       "      <td>key features of alisha solid women's cycling s...</td>\n",
       "      <td>no rating available</td>\n",
       "      <td>NaN</td>\n",
       "      <td>alisha</td>\n",
       "      <td>{\"product_specification\"=&gt;[{\"key\"=&gt;\"number of ...</td>\n",
       "    </tr>\n",
       "    <tr>\n",
       "      <th>4</th>\n",
       "      <td>bc940ea42ee6bef5ac7cea3fb5cfbee7</td>\n",
       "      <td>2016-03-25 22:59:23 +0000</td>\n",
       "      <td>http://www.flipkart.com/sicons-all-purpose-arn...</td>\n",
       "      <td>sicons all purpose arnica dog shampoo</td>\n",
       "      <td>[\"pet supplies &gt;&gt; grooming &gt;&gt; skin &amp; coat care...</td>\n",
       "      <td>psoeh3zydmsyarj5</td>\n",
       "      <td>220.0</td>\n",
       "      <td>210.0</td>\n",
       "      <td>[\"http://img5a.flixcart.com/image/pet-shampoo/...</td>\n",
       "      <td>False</td>\n",
       "      <td>specifications of sicons all purpose arnica do...</td>\n",
       "      <td>no rating available</td>\n",
       "      <td>NaN</td>\n",
       "      <td>sicons</td>\n",
       "      <td>{\"product_specification\"=&gt;[{\"key\"=&gt;\"pet type\",...</td>\n",
       "    </tr>\n",
       "  </tbody>\n",
       "</table>\n",
       "</div>"
      ],
      "text/plain": [
       "                            uniq_id            crawl_timestamp  \\\n",
       "0  c2d766ca982eca8304150849735ffef9  2016-03-25 22:59:23 +0000   \n",
       "1  7f7036a6d550aaa89d34c77bd39a5e48  2016-03-25 22:59:23 +0000   \n",
       "2  f449ec65dcbc041b6ae5e6a32717d01b  2016-03-25 22:59:23 +0000   \n",
       "3  0973b37acd0c664e3de26e97e5571454  2016-03-25 22:59:23 +0000   \n",
       "4  bc940ea42ee6bef5ac7cea3fb5cfbee7  2016-03-25 22:59:23 +0000   \n",
       "\n",
       "                                         product_url  \\\n",
       "0  http://www.flipkart.com/alisha-solid-women-s-c...   \n",
       "1  http://www.flipkart.com/fabhomedecor-fabric-do...   \n",
       "2  http://www.flipkart.com/aw-bellies/p/itmeh4grg...   \n",
       "3  http://www.flipkart.com/alisha-solid-women-s-c...   \n",
       "4  http://www.flipkart.com/sicons-all-purpose-arn...   \n",
       "\n",
       "                            product_name  \\\n",
       "0    alisha solid women's cycling shorts   \n",
       "1    fabhomedecor fabric double sofa bed   \n",
       "2                             aw bellies   \n",
       "3    alisha solid women's cycling shorts   \n",
       "4  sicons all purpose arnica dog shampoo   \n",
       "\n",
       "                               product_category_tree               pid  \\\n",
       "0  [\"clothing >> women's clothing >> lingerie, sl...  srteh2ff9kedefgf   \n",
       "1  [\"furniture >> living room furniture >> sofa b...  sbeeh3qgu7mfyjfy   \n",
       "2  [\"footwear >> women's footwear >> ballerinas >...  shoeh4grsubjgzxe   \n",
       "3  [\"clothing >> women's clothing >> lingerie, sl...  srteh2f6huzmq6sj   \n",
       "4  [\"pet supplies >> grooming >> skin & coat care...  psoeh3zydmsyarj5   \n",
       "\n",
       "   retail_price  discounted_price  \\\n",
       "0         999.0             379.0   \n",
       "1       32157.0           22646.0   \n",
       "2         999.0             499.0   \n",
       "3         699.0             267.0   \n",
       "4         220.0             210.0   \n",
       "\n",
       "                                               image  is_FK_Advantage_product  \\\n",
       "0  [\"http://img5a.flixcart.com/image/short/u/4/a/...                    False   \n",
       "1  [\"http://img6a.flixcart.com/image/sofa-bed/j/f...                    False   \n",
       "2  [\"http://img5a.flixcart.com/image/shoe/7/z/z/r...                    False   \n",
       "3  [\"http://img5a.flixcart.com/image/short/6/2/h/...                    False   \n",
       "4  [\"http://img5a.flixcart.com/image/pet-shampoo/...                    False   \n",
       "\n",
       "                                         description       product_rating  \\\n",
       "0  key features of alisha solid women's cycling s...  no rating available   \n",
       "1  fabhomedecor fabric double sofa bed (finish co...  no rating available   \n",
       "2  key features of aw bellies sandals wedges heel...  no rating available   \n",
       "3  key features of alisha solid women's cycling s...  no rating available   \n",
       "4  specifications of sicons all purpose arnica do...  no rating available   \n",
       "\n",
       "   overall_rating         brand  \\\n",
       "0             NaN        alisha   \n",
       "1             NaN  fabhomedecor   \n",
       "2             NaN            aw   \n",
       "3             NaN        alisha   \n",
       "4             NaN        sicons   \n",
       "\n",
       "                              product_specifications  \n",
       "0  {\"product_specification\"=>[{\"key\"=>\"number of ...  \n",
       "1  {\"product_specification\"=>[{\"key\"=>\"installati...  \n",
       "2  {\"product_specification\"=>[{\"key\"=>\"ideal for\"...  \n",
       "3  {\"product_specification\"=>[{\"key\"=>\"number of ...  \n",
       "4  {\"product_specification\"=>[{\"key\"=>\"pet type\",...  "
      ]
     },
     "execution_count": 14,
     "metadata": {},
     "output_type": "execute_result"
    }
   ],
   "source": [
    "df.head()"
   ]
  },
  {
   "cell_type": "markdown",
   "id": "5a65675d",
   "metadata": {},
   "source": [
    "## Visualisation"
   ]
  },
  {
   "cell_type": "code",
   "execution_count": 15,
   "id": "26e930f0",
   "metadata": {},
   "outputs": [
    {
     "data": {
      "image/png": "[encoded data removed]",
      "text/plain": [
       "<Figure size 576x360 with 1 Axes>"
      ]
     },
     "metadata": {
      "needs_background": "light"
     },
     "output_type": "display_data"
    }
   ],
   "source": [
    "# Convert overall_rating to numeric, if not already\n",
    "df['overall_rating'] = pd.to_numeric(df['overall_rating'], errors='coerce')\n",
    "\n",
    "# Plot distribution of Overall Ratings\n",
    "plt.figure(figsize=(8, 5))\n",
    "sns.histplot(df['overall_rating'], bins=20, kde=True, color='green')\n",
    "plt.title('Distribution of Overall Ratings')\n",
    "plt.xlabel('Overall Rating')\n",
    "plt.ylabel('Frequency')\n",
    "plt.show()\n"
   ]
  },
  {
   "cell_type": "code",
   "execution_count": 16,
   "id": "e3a8918f",
   "metadata": {},
   "outputs": [
    {
     "data": {
      "image/png": "[encoded data removed]",
      "text/plain": [
       "<Figure size 720x432 with 1 Axes>"
      ]
     },
     "metadata": {
      "needs_background": "light"
     },
     "output_type": "display_data"
    }
   ],
   "source": [
    "# Plot most common brands\n",
    "plt.figure(figsize=(10, 6))\n",
    "\n",
    "df['brand'].value_counts().nlargest(10).plot(kind='bar', color='purple')\n",
    "\n",
    "plt.title('Top 10 Brands by Product Count')\n",
    "plt.xlabel('Brand')\n",
    "plt.ylabel('Count of Products')\n",
    "plt.xticks(rotation=45)\n",
    "\n",
    "plt.show()"
   ]
  },
  {
   "cell_type": "code",
   "execution_count": 17,
   "id": "383e8ed8",
   "metadata": {},
   "outputs": [
    {
     "data": {
      "image/png": "[encoded data removed]",
      "text/plain": [
       "<Figure size 720x432 with 1 Axes>"
      ]
     },
     "metadata": {
      "needs_background": "light"
     },
     "output_type": "display_data"
    }
   ],
   "source": [
    "# Plot most common brands without noname\n",
    "plt.figure(figsize=(10, 6))\n",
    "\n",
    "df['brand'].value_counts().nlargest(10)[1:].plot(kind='bar', color='purple')\n",
    "\n",
    "plt.title('Top 10 Brands by Product Count')\n",
    "plt.xlabel('Brand')\n",
    "plt.ylabel('Count of Products')\n",
    "plt.xticks(rotation=45)\n",
    "\n",
    "plt.show()"
   ]
  },
  {
   "cell_type": "markdown",
   "id": "46c70da5",
   "metadata": {},
   "source": [
    "## User-Based Collaborative Filtering (KNN)\n",
    "## Product Category Classification\n",
    "Let's predict the product category"
   ]
  },
  {
   "cell_type": "code",
   "execution_count": 62,
   "id": "5c9ee1bf",
   "metadata": {},
   "outputs": [],
   "source": [
    "\n",
    "label_encoder = LabelEncoder()\n",
    "\n",
    "product_name_t              = label_encoder.fit_transform(df['product_name'])\n",
    "retail_price_t              = label_encoder.fit_transform(df['retail_price'])\n",
    "description_t               = label_encoder.fit_transform(df['description'])\n",
    "product_category_tree_t     = label_encoder.fit_transform(df['product_category_tree'])\n",
    "\n",
    "product_category_tree_t     = label_encoder.fit_transform(df['product_category_tree'])"
   ]
  },
  {
   "cell_type": "code",
   "execution_count": 63,
   "id": "6374385a",
   "metadata": {},
   "outputs": [],
   "source": [
    "features =  pd.DataFrame({'product_name_t': product_name_t, 'retail_price_t': retail_price_t, 'description_t': description_t})\n",
    "target = product_category_tree_t\n",
    "\n",
    "imputer = SimpleImputer(strategy='mean')\n",
    "features_imputed = imputer.fit_transform(features)\n",
    "\n",
    "label_encoder = LabelEncoder()\n",
    "target_encoded = label_encoder.fit_transform(target)\n",
    "\n",
    "X_train, X_test, y_train, y_test = train_test_split(features_imputed, target_encoded, test_size=0.3, random_state=42)"
   ]
  },
  {
   "cell_type": "markdown",
   "id": "6760f747",
   "metadata": {},
   "source": [
    "## Scale the features for better KNN performance"
   ]
  },
  {
   "cell_type": "code",
   "execution_count": 64,
   "id": "58772307",
   "metadata": {},
   "outputs": [],
   "source": [
    "scaler = StandardScaler()\n",
    "X_train = scaler.fit_transform(X_train)\n",
    "X_test = scaler.transform(X_test)"
   ]
  },
  {
   "cell_type": "markdown",
   "id": "f4a2d4ea",
   "metadata": {},
   "source": [
    "## Train the model"
   ]
  },
  {
   "cell_type": "code",
   "execution_count": 65,
   "id": "90600eb7",
   "metadata": {},
   "outputs": [
    {
     "data": {
      "text/plain": [
       "KNeighborsClassifier()"
      ]
     },
     "execution_count": 65,
     "metadata": {},
     "output_type": "execute_result"
    }
   ],
   "source": [
    "knn = KNeighborsClassifier(n_neighbors=5)\n",
    "\n",
    "knn.fit(X_train, y_train)"
   ]
  },
  {
   "cell_type": "markdown",
   "id": "926c55a4",
   "metadata": {},
   "source": [
    "## Make predictions on the test set"
   ]
  },
  {
   "cell_type": "code",
   "execution_count": 66,
   "id": "40dff7d1",
   "metadata": {},
   "outputs": [
    {
     "name": "stdout",
     "output_type": "stream",
     "text": [
      "Accuracy: 44.12%\n"
     ]
    }
   ],
   "source": [
    "y_pred = knn.predict(X_test)\n",
    "\n",
    "accuracy = accuracy_score(y_test, y_pred)\n",
    "print(f'Accuracy: {accuracy * 100:.2f}%')"
   ]
  },
  {
   "cell_type": "markdown",
   "id": "704a4875",
   "metadata": {},
   "source": [
    "## Accuracy vs. Number of Neighbors (k) plot"
   ]
  },
  {
   "cell_type": "code",
   "execution_count": 67,
   "id": "58c145a0",
   "metadata": {},
   "outputs": [
    {
     "data": {
      "image/png": "[encoded data removed]",
      "text/plain": [
       "<Figure size 576x360 with 1 Axes>"
      ]
     },
     "metadata": {
      "needs_background": "light"
     },
     "output_type": "display_data"
    }
   ],
   "source": [
    "max_k=10\n",
    "\n",
    "k_values = list(range(1, max_k+1))\n",
    "accuracies = []\n",
    "\n",
    "for k in k_values:\n",
    "    knn = KNeighborsClassifier(n_neighbors=k)\n",
    "    knn.fit(X_train, y_train)\n",
    "    y_pred = knn.predict(X_test)\n",
    "    accuracies.append(accuracy_score(y_test, y_pred))\n",
    "\n",
    "plt.figure(figsize=(8, 5))\n",
    "plt.plot(k_values, accuracies, marker='o', linestyle='--', color='b')\n",
    "plt.xlabel('Number of Neighbors (k)')\n",
    "plt.ylabel('Accuracy')\n",
    "plt.title('Accuracy vs. Number of Neighbors (k)')\n",
    "plt.grid(True)\n",
    "plt.show()"
   ]
  },
  {
   "cell_type": "code",
   "execution_count": 68,
   "id": "c8be1f66",
   "metadata": {},
   "outputs": [
    {
     "name": "stdout",
     "output_type": "stream",
     "text": [
      "[[0 0 0 0 0 0 0 0 0 0 0 0 0]\n",
      " [0 0 0 0 0 0 0 0 0 0 0 0 0]\n",
      " [0 0 0 0 0 0 0 0 0 0 0 0 0]\n",
      " [0 0 0 0 0 1 0 0 0 0 0 0 0]\n",
      " [0 0 0 0 1 0 0 0 0 0 0 0 0]\n",
      " [0 0 0 0 0 0 0 0 0 0 0 0 0]\n",
      " [1 0 0 0 0 0 0 0 0 0 0 0 0]\n",
      " [0 1 0 0 0 0 0 0 0 0 0 0 0]\n",
      " [0 0 0 0 0 0 0 0 1 0 0 0 0]\n",
      " [0 0 0 0 0 0 0 0 0 1 0 0 0]\n",
      " [0 0 1 0 0 0 0 0 0 0 0 0 0]\n",
      " [0 0 0 0 0 0 0 0 0 0 0 2 0]\n",
      " [0 0 0 0 0 0 0 0 0 0 0 0 1]]\n"
     ]
    }
   ],
   "source": [
    "X_test_10 = X_test[:10]\n",
    "y_test_10 = y_test[:10]\n",
    "\n",
    "y_pred = knn.predict(X_test_10)\n",
    "labels = label_encoder.classes_\n",
    "\n",
    "cm = confusion_matrix(y_test_10, y_pred)\n",
    "print(cm)\n"
   ]
  },
  {
   "cell_type": "code",
   "execution_count": 70,
   "id": "15b6f03f",
   "metadata": {},
   "outputs": [
    {
     "data": {
      "image/png": "[encoded data removed]",
      "text/plain": [
       "<Figure size 576x432 with 2 Axes>"
      ]
     },
     "metadata": {
      "needs_background": "light"
     },
     "output_type": "display_data"
    }
   ],
   "source": [
    "plt.figure(figsize=(8, 6))\n",
    "sns.heatmap(cm, annot=True, cmap='Blues', fmt='d')\n",
    "plt.xlabel('Predicted')\n",
    "plt.ylabel('True')\n",
    "plt.title('Confusion Matrix for First 100 Items')\n",
    "plt.show()"
   ]
  },
  {
   "cell_type": "code",
   "execution_count": 89,
   "id": "983e1fac",
   "metadata": {},
   "outputs": [
    {
     "data": {
      "text/plain": [
       "NearestNeighbors(algorithm='brute', metric='cosine')"
      ]
     },
     "execution_count": 89,
     "metadata": {},
     "output_type": "execute_result"
    }
   ],
   "source": [
    "user_item_matrix = df.pivot_table(index='uniq_id', columns='pid', values='overall_rating').fillna(0)\n",
    "\n",
    "knn = NearestNeighbors(metric='cosine', algorithm='brute')\n",
    "knn.fit(user_item_matrix)"
   ]
  },
  {
   "cell_type": "markdown",
   "id": "2544d87c",
   "metadata": {},
   "source": [
    "## Find n_neighbors similar users to the given user"
   ]
  },
  {
   "cell_type": "code",
   "execution_count": 90,
   "id": "5f1ced24",
   "metadata": {},
   "outputs": [],
   "source": [
    "def find_similar_users(user_id, user_item_matrix, knn_model, n_neighbors=5):\n",
    "    if user_id not in user_item_matrix.index:\n",
    "        print(f\"User {user_id} not found in dataset.\")\n",
    "        return []\n",
    "\n",
    "    user_vector         = user_item_matrix.loc[user_id].values.reshape(1, -1)\n",
    "    distances, indices  = knn_model.kneighbors(user_vector, n_neighbors=n_neighbors + 1)\n",
    "    similar_users       = user_item_matrix.index[indices.flatten()[1:]]\n",
    "\n",
    "    return similar_users"
   ]
  },
  {
   "cell_type": "code",
   "execution_count": 91,
   "id": "d16c505c",
   "metadata": {},
   "outputs": [
    {
     "name": "stdout",
     "output_type": "stream",
     "text": [
      "Top similar users to User 00234f1417b5b1dc65feb088cf612762:\n",
      "Index(['ae19a81b730b48b87ca72521af8fb902', 'ae03731c3482a5e42d040dbf723c49af',\n",
      "       'ae066a3529395e6eebad9b914c9d887d', 'ae6fa9585c124ed80d84897f5eb9370c',\n",
      "       'ae3fad1fc6656b1dee010f9a0cc1817d'],\n",
      "      dtype='object', name='uniq_id')\n"
     ]
    },
    {
     "name": "stderr",
     "output_type": "stream",
     "text": [
      "/home/rewood/anaconda3/lib/python3.9/site-packages/sklearn/base.py:450: UserWarning: X does not have valid feature names, but NearestNeighbors was fitted with feature names\n",
      "  warnings.warn(\n"
     ]
    }
   ],
   "source": [
    "user_id         = user_item_matrix.index[0]\n",
    "similar_users   = find_similar_users(user_id, user_item_matrix, knn)\n",
    "\n",
    "print(f\"Top similar users to User {user_id}:\\n{similar_users}\")"
   ]
  },
  {
   "cell_type": "markdown",
   "id": "f1a36cb7",
   "metadata": {},
   "source": [
    "## Recommend products for the given user"
   ]
  },
  {
   "cell_type": "code",
   "execution_count": 96,
   "id": "5b669ca6",
   "metadata": {},
   "outputs": [],
   "source": [
    "def recommend_products(user_id, user_item_matrix, similar_users):\n",
    "    \n",
    "    user_ratings        = user_item_matrix.loc[user_id]\n",
    "    recommendations     = pd.Series(dtype='float64')\n",
    "\n",
    "    for similar_user in similar_users:\n",
    "        similar_user_ratings = user_item_matrix.loc[similar_user]\n",
    "        recommendations = recommendations.add(similar_user_ratings, fill_value=0)\n",
    "\n",
    "    recommendations[user_ratings > 0]   = 0\n",
    "    recommendations                     = recommendations.sort_values(ascending=False)\n",
    "\n",
    "    return recommendations"
   ]
  },
  {
   "cell_type": "code",
   "execution_count": 97,
   "id": "2b90afc2",
   "metadata": {},
   "outputs": [
    {
     "name": "stdout",
     "output_type": "stream",
     "text": [
      "Recommended products for User 00234f1417b5b1dc65feb088cf612762:\n",
      "pid\n",
      "nkce4va4m2zkzguy    5.0\n",
      "spbdhhhhxpzjdgyb    4.0\n",
      "rtrdpa9fncrgs8uz    3.0\n",
      "wate7f5jk2jffhd5    3.0\n",
      "shodxswwqenjwhdk    1.8\n",
      "dtype: float64\n"
     ]
    }
   ],
   "source": [
    "recommendations = recommend_products(user_id, user_item_matrix, similar_users)\n",
    "\n",
    "print(f\"Recommended products for User {user_id}:\\n{recommendations.head()}\")\n"
   ]
  },
  {
   "cell_type": "code",
   "execution_count": 110,
   "id": "57640809",
   "metadata": {},
   "outputs": [
    {
     "name": "stdout",
     "output_type": "stream",
     "text": [
      "Recommended products for User 00234f1417b5b1dc65feb088cf612762:\n",
      "Product: jdx alloy necklace, Recommended Score: 5.00\n"
     ]
    }
   ],
   "source": [
    "recommendations_str = recommendations.index.to_series().apply(\n",
    "    lambda pid: f\"Product: {df[df['pid'] == pid]['product_name'].iloc[0]}, Recommended Score: {recommendations[pid]:.2f}\"\n",
    ")\n",
    "\n",
    "print(f\"Recommended products for User {user_id}:\\n{recommendations_str[0]}\")"
   ]
  },
  {
   "cell_type": "code",
   "execution_count": null,
   "id": "0d9e8c47",
   "metadata": {},
   "outputs": [],
   "source": []
  }
 ],
 "metadata": {
  "kernelspec": {
   "display_name": "Python 3 (ipykernel)",
   "language": "python",
   "name": "python3"
  },
  "language_info": {
   "codemirror_mode": {
    "name": "ipython",
    "version": 3
   },
   "file_extension": ".py",
   "mimetype": "text/x-python",
   "name": "python",
   "nbconvert_exporter": "python",
   "pygments_lexer": "ipython3",
   "version": "3.9.12"
  }
 },
 "nbformat": 4,
 "nbformat_minor": 5
}
