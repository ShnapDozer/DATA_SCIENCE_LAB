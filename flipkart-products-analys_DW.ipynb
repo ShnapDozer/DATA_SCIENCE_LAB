{
 "cells": [
  {
   "cell_type": "markdown",
   "id": "efe87e45",
   "metadata": {},
   "source": [
    "### Recommendation System for E-commerce"
   ]
  },
  {
   "cell_type": "code",
   "execution_count": 8,
   "id": "c6aaba3d",
   "metadata": {
    "scrolled": false
   },
   "outputs": [
    {
     "name": "stdout",
     "output_type": "stream",
     "text": [
      "Dataset URL: https://www.kaggle.com/datasets/PromptCloudHQ/flipkart-products\n",
      "License(s): CC-BY-SA-4.0\n",
      "Downloading flipkart-products.zip to /home/rewood/Desktop/Untitled Folder\n",
      "100%|███████████████████████████████████████| 5.50M/5.50M [00:11<00:00, 679kB/s]\n",
      "100%|███████████████████████████████████████| 5.50M/5.50M [00:11<00:00, 501kB/s]\n"
     ]
    }
   ],
   "source": [
    "!kaggle datasets download -d PromptCloudHQ/flipkart-products"
   ]
  },
  {
   "cell_type": "code",
   "execution_count": 9,
   "id": "3d7d4fb0",
   "metadata": {},
   "outputs": [],
   "source": [
    "! mkdir flipkart-products"
   ]
  },
  {
   "cell_type": "code",
   "execution_count": 10,
   "id": "3ff10d10",
   "metadata": {},
   "outputs": [
    {
     "name": "stdout",
     "output_type": "stream",
     "text": [
      "Archive:  flipkart-products.zip\n",
      "  inflating: flipkart-products/flipkart_com-ecommerce_sample.csv  \n"
     ]
    }
   ],
   "source": [
    "! unzip flipkart-products.zip -d flipkart-products"
   ]
  },
  {
   "cell_type": "code",
   "execution_count": 26,
   "id": "d74be88a",
   "metadata": {},
   "outputs": [],
   "source": [
    "import pandas as pd\n",
    "import numpy as np\n",
    "from sklearn.metrics.pairwise import cosine_similarity\n",
    "from sklearn.neighbors import NearestNeighbors\n",
    "from sklearn.feature_extraction.text import TfidfVectorizer\n",
    "import matplotlib.pyplot as plt\n",
    "import seaborn as sns"
   ]
  },
  {
   "cell_type": "code",
   "execution_count": 5,
   "id": "045798b5",
   "metadata": {},
   "outputs": [],
   "source": [
    "df=pd.read_csv(\"/home/rewood/Desktop/Untitled Folder/flipkart-products/flipkart_com-ecommerce_sample.csv\")"
   ]
  },
  {
   "cell_type": "code",
   "execution_count": 14,
   "id": "96ec8e6f",
   "metadata": {},
   "outputs": [
    {
     "data": {
      "text/html": [
       "<div>\n",
       "<style scoped>\n",
       "    .dataframe tbody tr th:only-of-type {\n",
       "        vertical-align: middle;\n",
       "    }\n",
       "\n",
       "    .dataframe tbody tr th {\n",
       "        vertical-align: top;\n",
       "    }\n",
       "\n",
       "    .dataframe thead th {\n",
       "        text-align: right;\n",
       "    }\n",
       "</style>\n",
       "<table border=\"1\" class=\"dataframe\">\n",
       "  <thead>\n",
       "    <tr style=\"text-align: right;\">\n",
       "      <th></th>\n",
       "      <th>uniq_id</th>\n",
       "      <th>crawl_timestamp</th>\n",
       "      <th>product_url</th>\n",
       "      <th>product_name</th>\n",
       "      <th>product_category_tree</th>\n",
       "      <th>pid</th>\n",
       "      <th>retail_price</th>\n",
       "      <th>discounted_price</th>\n",
       "      <th>image</th>\n",
       "      <th>is_FK_Advantage_product</th>\n",
       "      <th>description</th>\n",
       "      <th>product_rating</th>\n",
       "      <th>overall_rating</th>\n",
       "      <th>brand</th>\n",
       "      <th>product_specifications</th>\n",
       "    </tr>\n",
       "  </thead>\n",
       "  <tbody>\n",
       "    <tr>\n",
       "      <th>0</th>\n",
       "      <td>c2d766ca982eca8304150849735ffef9</td>\n",
       "      <td>2016-03-25 22:59:23 +0000</td>\n",
       "      <td>http://www.flipkart.com/alisha-solid-women-s-c...</td>\n",
       "      <td>Alisha Solid Women's Cycling Shorts</td>\n",
       "      <td>[\"Clothing &gt;&gt; Women's Clothing &gt;&gt; Lingerie, Sl...</td>\n",
       "      <td>SRTEH2FF9KEDEFGF</td>\n",
       "      <td>999.0</td>\n",
       "      <td>379.0</td>\n",
       "      <td>[\"http://img5a.flixcart.com/image/short/u/4/a/...</td>\n",
       "      <td>False</td>\n",
       "      <td>Key Features of Alisha Solid Women's Cycling S...</td>\n",
       "      <td>No rating available</td>\n",
       "      <td>No rating available</td>\n",
       "      <td>Alisha</td>\n",
       "      <td>{\"product_specification\"=&gt;[{\"key\"=&gt;\"Number of ...</td>\n",
       "    </tr>\n",
       "    <tr>\n",
       "      <th>1</th>\n",
       "      <td>7f7036a6d550aaa89d34c77bd39a5e48</td>\n",
       "      <td>2016-03-25 22:59:23 +0000</td>\n",
       "      <td>http://www.flipkart.com/fabhomedecor-fabric-do...</td>\n",
       "      <td>FabHomeDecor Fabric Double Sofa Bed</td>\n",
       "      <td>[\"Furniture &gt;&gt; Living Room Furniture &gt;&gt; Sofa B...</td>\n",
       "      <td>SBEEH3QGU7MFYJFY</td>\n",
       "      <td>32157.0</td>\n",
       "      <td>22646.0</td>\n",
       "      <td>[\"http://img6a.flixcart.com/image/sofa-bed/j/f...</td>\n",
       "      <td>False</td>\n",
       "      <td>FabHomeDecor Fabric Double Sofa Bed (Finish Co...</td>\n",
       "      <td>No rating available</td>\n",
       "      <td>No rating available</td>\n",
       "      <td>FabHomeDecor</td>\n",
       "      <td>{\"product_specification\"=&gt;[{\"key\"=&gt;\"Installati...</td>\n",
       "    </tr>\n",
       "    <tr>\n",
       "      <th>2</th>\n",
       "      <td>f449ec65dcbc041b6ae5e6a32717d01b</td>\n",
       "      <td>2016-03-25 22:59:23 +0000</td>\n",
       "      <td>http://www.flipkart.com/aw-bellies/p/itmeh4grg...</td>\n",
       "      <td>AW Bellies</td>\n",
       "      <td>[\"Footwear &gt;&gt; Women's Footwear &gt;&gt; Ballerinas &gt;...</td>\n",
       "      <td>SHOEH4GRSUBJGZXE</td>\n",
       "      <td>999.0</td>\n",
       "      <td>499.0</td>\n",
       "      <td>[\"http://img5a.flixcart.com/image/shoe/7/z/z/r...</td>\n",
       "      <td>False</td>\n",
       "      <td>Key Features of AW Bellies Sandals Wedges Heel...</td>\n",
       "      <td>No rating available</td>\n",
       "      <td>No rating available</td>\n",
       "      <td>AW</td>\n",
       "      <td>{\"product_specification\"=&gt;[{\"key\"=&gt;\"Ideal For\"...</td>\n",
       "    </tr>\n",
       "    <tr>\n",
       "      <th>3</th>\n",
       "      <td>0973b37acd0c664e3de26e97e5571454</td>\n",
       "      <td>2016-03-25 22:59:23 +0000</td>\n",
       "      <td>http://www.flipkart.com/alisha-solid-women-s-c...</td>\n",
       "      <td>Alisha Solid Women's Cycling Shorts</td>\n",
       "      <td>[\"Clothing &gt;&gt; Women's Clothing &gt;&gt; Lingerie, Sl...</td>\n",
       "      <td>SRTEH2F6HUZMQ6SJ</td>\n",
       "      <td>699.0</td>\n",
       "      <td>267.0</td>\n",
       "      <td>[\"http://img5a.flixcart.com/image/short/6/2/h/...</td>\n",
       "      <td>False</td>\n",
       "      <td>Key Features of Alisha Solid Women's Cycling S...</td>\n",
       "      <td>No rating available</td>\n",
       "      <td>No rating available</td>\n",
       "      <td>Alisha</td>\n",
       "      <td>{\"product_specification\"=&gt;[{\"key\"=&gt;\"Number of ...</td>\n",
       "    </tr>\n",
       "    <tr>\n",
       "      <th>4</th>\n",
       "      <td>bc940ea42ee6bef5ac7cea3fb5cfbee7</td>\n",
       "      <td>2016-03-25 22:59:23 +0000</td>\n",
       "      <td>http://www.flipkart.com/sicons-all-purpose-arn...</td>\n",
       "      <td>Sicons All Purpose Arnica Dog Shampoo</td>\n",
       "      <td>[\"Pet Supplies &gt;&gt; Grooming &gt;&gt; Skin &amp; Coat Care...</td>\n",
       "      <td>PSOEH3ZYDMSYARJ5</td>\n",
       "      <td>220.0</td>\n",
       "      <td>210.0</td>\n",
       "      <td>[\"http://img5a.flixcart.com/image/pet-shampoo/...</td>\n",
       "      <td>False</td>\n",
       "      <td>Specifications of Sicons All Purpose Arnica Do...</td>\n",
       "      <td>No rating available</td>\n",
       "      <td>No rating available</td>\n",
       "      <td>Sicons</td>\n",
       "      <td>{\"product_specification\"=&gt;[{\"key\"=&gt;\"Pet Type\",...</td>\n",
       "    </tr>\n",
       "  </tbody>\n",
       "</table>\n",
       "</div>"
      ],
      "text/plain": [
       "                            uniq_id            crawl_timestamp  \\\n",
       "0  c2d766ca982eca8304150849735ffef9  2016-03-25 22:59:23 +0000   \n",
       "1  7f7036a6d550aaa89d34c77bd39a5e48  2016-03-25 22:59:23 +0000   \n",
       "2  f449ec65dcbc041b6ae5e6a32717d01b  2016-03-25 22:59:23 +0000   \n",
       "3  0973b37acd0c664e3de26e97e5571454  2016-03-25 22:59:23 +0000   \n",
       "4  bc940ea42ee6bef5ac7cea3fb5cfbee7  2016-03-25 22:59:23 +0000   \n",
       "\n",
       "                                         product_url  \\\n",
       "0  http://www.flipkart.com/alisha-solid-women-s-c...   \n",
       "1  http://www.flipkart.com/fabhomedecor-fabric-do...   \n",
       "2  http://www.flipkart.com/aw-bellies/p/itmeh4grg...   \n",
       "3  http://www.flipkart.com/alisha-solid-women-s-c...   \n",
       "4  http://www.flipkart.com/sicons-all-purpose-arn...   \n",
       "\n",
       "                            product_name  \\\n",
       "0    Alisha Solid Women's Cycling Shorts   \n",
       "1    FabHomeDecor Fabric Double Sofa Bed   \n",
       "2                             AW Bellies   \n",
       "3    Alisha Solid Women's Cycling Shorts   \n",
       "4  Sicons All Purpose Arnica Dog Shampoo   \n",
       "\n",
       "                               product_category_tree               pid  \\\n",
       "0  [\"Clothing >> Women's Clothing >> Lingerie, Sl...  SRTEH2FF9KEDEFGF   \n",
       "1  [\"Furniture >> Living Room Furniture >> Sofa B...  SBEEH3QGU7MFYJFY   \n",
       "2  [\"Footwear >> Women's Footwear >> Ballerinas >...  SHOEH4GRSUBJGZXE   \n",
       "3  [\"Clothing >> Women's Clothing >> Lingerie, Sl...  SRTEH2F6HUZMQ6SJ   \n",
       "4  [\"Pet Supplies >> Grooming >> Skin & Coat Care...  PSOEH3ZYDMSYARJ5   \n",
       "\n",
       "   retail_price  discounted_price  \\\n",
       "0         999.0             379.0   \n",
       "1       32157.0           22646.0   \n",
       "2         999.0             499.0   \n",
       "3         699.0             267.0   \n",
       "4         220.0             210.0   \n",
       "\n",
       "                                               image  is_FK_Advantage_product  \\\n",
       "0  [\"http://img5a.flixcart.com/image/short/u/4/a/...                    False   \n",
       "1  [\"http://img6a.flixcart.com/image/sofa-bed/j/f...                    False   \n",
       "2  [\"http://img5a.flixcart.com/image/shoe/7/z/z/r...                    False   \n",
       "3  [\"http://img5a.flixcart.com/image/short/6/2/h/...                    False   \n",
       "4  [\"http://img5a.flixcart.com/image/pet-shampoo/...                    False   \n",
       "\n",
       "                                         description       product_rating  \\\n",
       "0  Key Features of Alisha Solid Women's Cycling S...  No rating available   \n",
       "1  FabHomeDecor Fabric Double Sofa Bed (Finish Co...  No rating available   \n",
       "2  Key Features of AW Bellies Sandals Wedges Heel...  No rating available   \n",
       "3  Key Features of Alisha Solid Women's Cycling S...  No rating available   \n",
       "4  Specifications of Sicons All Purpose Arnica Do...  No rating available   \n",
       "\n",
       "        overall_rating         brand  \\\n",
       "0  No rating available        Alisha   \n",
       "1  No rating available  FabHomeDecor   \n",
       "2  No rating available            AW   \n",
       "3  No rating available        Alisha   \n",
       "4  No rating available        Sicons   \n",
       "\n",
       "                              product_specifications  \n",
       "0  {\"product_specification\"=>[{\"key\"=>\"Number of ...  \n",
       "1  {\"product_specification\"=>[{\"key\"=>\"Installati...  \n",
       "2  {\"product_specification\"=>[{\"key\"=>\"Ideal For\"...  \n",
       "3  {\"product_specification\"=>[{\"key\"=>\"Number of ...  \n",
       "4  {\"product_specification\"=>[{\"key\"=>\"Pet Type\",...  "
      ]
     },
     "execution_count": 14,
     "metadata": {},
     "output_type": "execute_result"
    }
   ],
   "source": [
    "df.head()"
   ]
  },
  {
   "cell_type": "code",
   "execution_count": 15,
   "id": "86ac80f9",
   "metadata": {},
   "outputs": [
    {
     "name": "stdout",
     "output_type": "stream",
     "text": [
      "<class 'pandas.core.frame.DataFrame'>\n",
      "RangeIndex: 20000 entries, 0 to 19999\n",
      "Data columns (total 15 columns):\n",
      " #   Column                   Non-Null Count  Dtype  \n",
      "---  ------                   --------------  -----  \n",
      " 0   uniq_id                  20000 non-null  object \n",
      " 1   crawl_timestamp          20000 non-null  object \n",
      " 2   product_url              20000 non-null  object \n",
      " 3   product_name             20000 non-null  object \n",
      " 4   product_category_tree    20000 non-null  object \n",
      " 5   pid                      20000 non-null  object \n",
      " 6   retail_price             19922 non-null  float64\n",
      " 7   discounted_price         19922 non-null  float64\n",
      " 8   image                    19997 non-null  object \n",
      " 9   is_FK_Advantage_product  20000 non-null  bool   \n",
      " 10  description              19998 non-null  object \n",
      " 11  product_rating           20000 non-null  object \n",
      " 12  overall_rating           20000 non-null  object \n",
      " 13  brand                    14136 non-null  object \n",
      " 14  product_specifications   19986 non-null  object \n",
      "dtypes: bool(1), float64(2), object(12)\n",
      "memory usage: 2.2+ MB\n"
     ]
    }
   ],
   "source": [
    "df.info()"
   ]
  },
  {
   "cell_type": "code",
   "execution_count": 16,
   "id": "d7969b85",
   "metadata": {},
   "outputs": [
    {
     "data": {
      "text/html": [
       "<div>\n",
       "<style scoped>\n",
       "    .dataframe tbody tr th:only-of-type {\n",
       "        vertical-align: middle;\n",
       "    }\n",
       "\n",
       "    .dataframe tbody tr th {\n",
       "        vertical-align: top;\n",
       "    }\n",
       "\n",
       "    .dataframe thead th {\n",
       "        text-align: right;\n",
       "    }\n",
       "</style>\n",
       "<table border=\"1\" class=\"dataframe\">\n",
       "  <thead>\n",
       "    <tr style=\"text-align: right;\">\n",
       "      <th></th>\n",
       "      <th>retail_price</th>\n",
       "      <th>discounted_price</th>\n",
       "    </tr>\n",
       "  </thead>\n",
       "  <tbody>\n",
       "    <tr>\n",
       "      <th>count</th>\n",
       "      <td>19922.000000</td>\n",
       "      <td>19922.000000</td>\n",
       "    </tr>\n",
       "    <tr>\n",
       "      <th>mean</th>\n",
       "      <td>2979.206104</td>\n",
       "      <td>1973.401767</td>\n",
       "    </tr>\n",
       "    <tr>\n",
       "      <th>std</th>\n",
       "      <td>9009.639341</td>\n",
       "      <td>7333.586040</td>\n",
       "    </tr>\n",
       "    <tr>\n",
       "      <th>min</th>\n",
       "      <td>35.000000</td>\n",
       "      <td>35.000000</td>\n",
       "    </tr>\n",
       "    <tr>\n",
       "      <th>25%</th>\n",
       "      <td>666.000000</td>\n",
       "      <td>350.000000</td>\n",
       "    </tr>\n",
       "    <tr>\n",
       "      <th>50%</th>\n",
       "      <td>1040.000000</td>\n",
       "      <td>550.000000</td>\n",
       "    </tr>\n",
       "    <tr>\n",
       "      <th>75%</th>\n",
       "      <td>1999.000000</td>\n",
       "      <td>999.000000</td>\n",
       "    </tr>\n",
       "    <tr>\n",
       "      <th>max</th>\n",
       "      <td>571230.000000</td>\n",
       "      <td>571230.000000</td>\n",
       "    </tr>\n",
       "  </tbody>\n",
       "</table>\n",
       "</div>"
      ],
      "text/plain": [
       "        retail_price  discounted_price\n",
       "count   19922.000000      19922.000000\n",
       "mean     2979.206104       1973.401767\n",
       "std      9009.639341       7333.586040\n",
       "min        35.000000         35.000000\n",
       "25%       666.000000        350.000000\n",
       "50%      1040.000000        550.000000\n",
       "75%      1999.000000        999.000000\n",
       "max    571230.000000     571230.000000"
      ]
     },
     "execution_count": 16,
     "metadata": {},
     "output_type": "execute_result"
    }
   ],
   "source": [
    "df.describe()"
   ]
  },
  {
   "cell_type": "markdown",
   "id": "976a575f",
   "metadata": {},
   "source": [
    "## Detect missing values"
   ]
  },
  {
   "cell_type": "code",
   "execution_count": 19,
   "id": "bb393685",
   "metadata": {},
   "outputs": [
    {
     "data": {
      "text/plain": [
       "uniq_id                       0\n",
       "crawl_timestamp               0\n",
       "product_url                   0\n",
       "product_name                  0\n",
       "product_category_tree         0\n",
       "pid                           0\n",
       "retail_price                 78\n",
       "discounted_price             78\n",
       "image                         3\n",
       "is_FK_Advantage_product       0\n",
       "description                   2\n",
       "product_rating                0\n",
       "overall_rating                0\n",
       "brand                      5864\n",
       "product_specifications       14\n",
       "dtype: int64"
      ]
     },
     "execution_count": 19,
     "metadata": {},
     "output_type": "execute_result"
    }
   ],
   "source": [
    "df.isnull().sum()"
   ]
  },
  {
   "cell_type": "code",
   "execution_count": 28,
   "id": "2f4d9ad2",
   "metadata": {},
   "outputs": [
    {
     "data": {
      "text/plain": [
       "uniq_id                     0.000\n",
       "crawl_timestamp             0.000\n",
       "product_url                 0.000\n",
       "product_name                0.000\n",
       "product_category_tree       0.000\n",
       "pid                         0.000\n",
       "retail_price                0.390\n",
       "discounted_price            0.390\n",
       "image                       0.015\n",
       "is_FK_Advantage_product     0.000\n",
       "description                 0.010\n",
       "product_rating              0.000\n",
       "overall_rating              0.000\n",
       "brand                      29.320\n",
       "product_specifications      0.070\n",
       "dtype: float64"
      ]
     },
     "execution_count": 28,
     "metadata": {},
     "output_type": "execute_result"
    }
   ],
   "source": [
    "df.isnull().mean() * 100"
   ]
  },
  {
   "cell_type": "markdown",
   "id": "e6a1d4b3",
   "metadata": {},
   "source": [
    "We have about 30% missing values because of col brand, fill it with \"Noname\" brand. Drop other rows with missing values"
   ]
  },
  {
   "cell_type": "code",
   "execution_count": 22,
   "id": "2a82a451",
   "metadata": {},
   "outputs": [],
   "source": [
    "df['brand'].fillna('NoName', inplace=True)\n",
    "df.dropna(inplace=True)"
   ]
  },
  {
   "cell_type": "code",
   "execution_count": 7,
   "id": "7d29a695",
   "metadata": {},
   "outputs": [
    {
     "data": {
      "text/plain": [
       "uniq_id                    0.0\n",
       "crawl_timestamp            0.0\n",
       "product_url                0.0\n",
       "product_name               0.0\n",
       "product_category_tree      0.0\n",
       "pid                        0.0\n",
       "retail_price               0.0\n",
       "discounted_price           0.0\n",
       "image                      0.0\n",
       "is_FK_Advantage_product    0.0\n",
       "description                0.0\n",
       "product_rating             0.0\n",
       "overall_rating             0.0\n",
       "brand                      0.0\n",
       "product_specifications     0.0\n",
       "dtype: float64"
      ]
     },
     "execution_count": 7,
     "metadata": {},
     "output_type": "execute_result"
    }
   ],
   "source": [
    "df.isnull().mean() * 100"
   ]
  },
  {
   "cell_type": "code",
   "execution_count": 23,
   "id": "5cffeb68",
   "metadata": {},
   "outputs": [],
   "source": [
    "df['overall_rating'] = pd.to_numeric(df['overall_rating'], errors='coerce') # Preprocess overall_rating (convert to numeric)\n",
    "df['description'] = df['description'].fillna('') # Fill missing descriptions with empty strings"
   ]
  },
  {
   "cell_type": "markdown",
   "id": "dccb3925",
   "metadata": {},
   "source": [
    "## Handle Duplicates"
   ]
  },
  {
   "cell_type": "code",
   "execution_count": 8,
   "id": "ff5e1688",
   "metadata": {},
   "outputs": [
    {
     "data": {
      "text/plain": [
       "0"
      ]
     },
     "execution_count": 8,
     "metadata": {},
     "output_type": "execute_result"
    }
   ],
   "source": [
    "df.duplicated().sum()"
   ]
  },
  {
   "cell_type": "markdown",
   "id": "4d2097c7",
   "metadata": {},
   "source": [
    "We dont have duplicated, but for test remove it."
   ]
  },
  {
   "cell_type": "code",
   "execution_count": 9,
   "id": "7d8d502e",
   "metadata": {},
   "outputs": [],
   "source": [
    "df.drop_duplicates(inplace=True)"
   ]
  },
  {
   "cell_type": "markdown",
   "id": "0444b5d7",
   "metadata": {},
   "source": [
    "## Handle Inconsistent Data"
   ]
  },
  {
   "cell_type": "code",
   "execution_count": 11,
   "id": "d1151e99",
   "metadata": {},
   "outputs": [],
   "source": [
    "for i in list(df.columns):\n",
    "    if df.dtypes[i] == pd.StringDtype:\n",
    "        df[i] = df[i].str.lower() # Convert column to consistent lowercase\n",
    "        df[i] = df[i].str.strip() # Remove leading/trailing spaces"
   ]
  },
  {
   "cell_type": "code",
   "execution_count": 12,
   "id": "2f5d30c5",
   "metadata": {},
   "outputs": [
    {
     "data": {
      "text/html": [
       "<div>\n",
       "<style scoped>\n",
       "    .dataframe tbody tr th:only-of-type {\n",
       "        vertical-align: middle;\n",
       "    }\n",
       "\n",
       "    .dataframe tbody tr th {\n",
       "        vertical-align: top;\n",
       "    }\n",
       "\n",
       "    .dataframe thead th {\n",
       "        text-align: right;\n",
       "    }\n",
       "</style>\n",
       "<table border=\"1\" class=\"dataframe\">\n",
       "  <thead>\n",
       "    <tr style=\"text-align: right;\">\n",
       "      <th></th>\n",
       "      <th>uniq_id</th>\n",
       "      <th>crawl_timestamp</th>\n",
       "      <th>product_url</th>\n",
       "      <th>product_name</th>\n",
       "      <th>product_category_tree</th>\n",
       "      <th>pid</th>\n",
       "      <th>retail_price</th>\n",
       "      <th>discounted_price</th>\n",
       "      <th>image</th>\n",
       "      <th>is_FK_Advantage_product</th>\n",
       "      <th>description</th>\n",
       "      <th>product_rating</th>\n",
       "      <th>overall_rating</th>\n",
       "      <th>brand</th>\n",
       "      <th>product_specifications</th>\n",
       "    </tr>\n",
       "  </thead>\n",
       "  <tbody>\n",
       "    <tr>\n",
       "      <th>0</th>\n",
       "      <td>c2d766ca982eca8304150849735ffef9</td>\n",
       "      <td>2016-03-25 22:59:23 +0000</td>\n",
       "      <td>http://www.flipkart.com/alisha-solid-women-s-c...</td>\n",
       "      <td>alisha solid women's cycling shorts</td>\n",
       "      <td>[\"clothing &gt;&gt; women's clothing &gt;&gt; lingerie, sl...</td>\n",
       "      <td>srteh2ff9kedefgf</td>\n",
       "      <td>999.0</td>\n",
       "      <td>379.0</td>\n",
       "      <td>[\"http://img5a.flixcart.com/image/short/u/4/a/...</td>\n",
       "      <td>False</td>\n",
       "      <td>key features of alisha solid women's cycling s...</td>\n",
       "      <td>no rating available</td>\n",
       "      <td>no rating available</td>\n",
       "      <td>alisha</td>\n",
       "      <td>{\"product_specification\"=&gt;[{\"key\"=&gt;\"number of ...</td>\n",
       "    </tr>\n",
       "    <tr>\n",
       "      <th>1</th>\n",
       "      <td>7f7036a6d550aaa89d34c77bd39a5e48</td>\n",
       "      <td>2016-03-25 22:59:23 +0000</td>\n",
       "      <td>http://www.flipkart.com/fabhomedecor-fabric-do...</td>\n",
       "      <td>fabhomedecor fabric double sofa bed</td>\n",
       "      <td>[\"furniture &gt;&gt; living room furniture &gt;&gt; sofa b...</td>\n",
       "      <td>sbeeh3qgu7mfyjfy</td>\n",
       "      <td>32157.0</td>\n",
       "      <td>22646.0</td>\n",
       "      <td>[\"http://img6a.flixcart.com/image/sofa-bed/j/f...</td>\n",
       "      <td>False</td>\n",
       "      <td>fabhomedecor fabric double sofa bed (finish co...</td>\n",
       "      <td>no rating available</td>\n",
       "      <td>no rating available</td>\n",
       "      <td>fabhomedecor</td>\n",
       "      <td>{\"product_specification\"=&gt;[{\"key\"=&gt;\"installati...</td>\n",
       "    </tr>\n",
       "    <tr>\n",
       "      <th>2</th>\n",
       "      <td>f449ec65dcbc041b6ae5e6a32717d01b</td>\n",
       "      <td>2016-03-25 22:59:23 +0000</td>\n",
       "      <td>http://www.flipkart.com/aw-bellies/p/itmeh4grg...</td>\n",
       "      <td>aw bellies</td>\n",
       "      <td>[\"footwear &gt;&gt; women's footwear &gt;&gt; ballerinas &gt;...</td>\n",
       "      <td>shoeh4grsubjgzxe</td>\n",
       "      <td>999.0</td>\n",
       "      <td>499.0</td>\n",
       "      <td>[\"http://img5a.flixcart.com/image/shoe/7/z/z/r...</td>\n",
       "      <td>False</td>\n",
       "      <td>key features of aw bellies sandals wedges heel...</td>\n",
       "      <td>no rating available</td>\n",
       "      <td>no rating available</td>\n",
       "      <td>aw</td>\n",
       "      <td>{\"product_specification\"=&gt;[{\"key\"=&gt;\"ideal for\"...</td>\n",
       "    </tr>\n",
       "    <tr>\n",
       "      <th>3</th>\n",
       "      <td>0973b37acd0c664e3de26e97e5571454</td>\n",
       "      <td>2016-03-25 22:59:23 +0000</td>\n",
       "      <td>http://www.flipkart.com/alisha-solid-women-s-c...</td>\n",
       "      <td>alisha solid women's cycling shorts</td>\n",
       "      <td>[\"clothing &gt;&gt; women's clothing &gt;&gt; lingerie, sl...</td>\n",
       "      <td>srteh2f6huzmq6sj</td>\n",
       "      <td>699.0</td>\n",
       "      <td>267.0</td>\n",
       "      <td>[\"http://img5a.flixcart.com/image/short/6/2/h/...</td>\n",
       "      <td>False</td>\n",
       "      <td>key features of alisha solid women's cycling s...</td>\n",
       "      <td>no rating available</td>\n",
       "      <td>no rating available</td>\n",
       "      <td>alisha</td>\n",
       "      <td>{\"product_specification\"=&gt;[{\"key\"=&gt;\"number of ...</td>\n",
       "    </tr>\n",
       "    <tr>\n",
       "      <th>4</th>\n",
       "      <td>bc940ea42ee6bef5ac7cea3fb5cfbee7</td>\n",
       "      <td>2016-03-25 22:59:23 +0000</td>\n",
       "      <td>http://www.flipkart.com/sicons-all-purpose-arn...</td>\n",
       "      <td>sicons all purpose arnica dog shampoo</td>\n",
       "      <td>[\"pet supplies &gt;&gt; grooming &gt;&gt; skin &amp; coat care...</td>\n",
       "      <td>psoeh3zydmsyarj5</td>\n",
       "      <td>220.0</td>\n",
       "      <td>210.0</td>\n",
       "      <td>[\"http://img5a.flixcart.com/image/pet-shampoo/...</td>\n",
       "      <td>False</td>\n",
       "      <td>specifications of sicons all purpose arnica do...</td>\n",
       "      <td>no rating available</td>\n",
       "      <td>no rating available</td>\n",
       "      <td>sicons</td>\n",
       "      <td>{\"product_specification\"=&gt;[{\"key\"=&gt;\"pet type\",...</td>\n",
       "    </tr>\n",
       "  </tbody>\n",
       "</table>\n",
       "</div>"
      ],
      "text/plain": [
       "                            uniq_id            crawl_timestamp  \\\n",
       "0  c2d766ca982eca8304150849735ffef9  2016-03-25 22:59:23 +0000   \n",
       "1  7f7036a6d550aaa89d34c77bd39a5e48  2016-03-25 22:59:23 +0000   \n",
       "2  f449ec65dcbc041b6ae5e6a32717d01b  2016-03-25 22:59:23 +0000   \n",
       "3  0973b37acd0c664e3de26e97e5571454  2016-03-25 22:59:23 +0000   \n",
       "4  bc940ea42ee6bef5ac7cea3fb5cfbee7  2016-03-25 22:59:23 +0000   \n",
       "\n",
       "                                         product_url  \\\n",
       "0  http://www.flipkart.com/alisha-solid-women-s-c...   \n",
       "1  http://www.flipkart.com/fabhomedecor-fabric-do...   \n",
       "2  http://www.flipkart.com/aw-bellies/p/itmeh4grg...   \n",
       "3  http://www.flipkart.com/alisha-solid-women-s-c...   \n",
       "4  http://www.flipkart.com/sicons-all-purpose-arn...   \n",
       "\n",
       "                            product_name  \\\n",
       "0    alisha solid women's cycling shorts   \n",
       "1    fabhomedecor fabric double sofa bed   \n",
       "2                             aw bellies   \n",
       "3    alisha solid women's cycling shorts   \n",
       "4  sicons all purpose arnica dog shampoo   \n",
       "\n",
       "                               product_category_tree               pid  \\\n",
       "0  [\"clothing >> women's clothing >> lingerie, sl...  srteh2ff9kedefgf   \n",
       "1  [\"furniture >> living room furniture >> sofa b...  sbeeh3qgu7mfyjfy   \n",
       "2  [\"footwear >> women's footwear >> ballerinas >...  shoeh4grsubjgzxe   \n",
       "3  [\"clothing >> women's clothing >> lingerie, sl...  srteh2f6huzmq6sj   \n",
       "4  [\"pet supplies >> grooming >> skin & coat care...  psoeh3zydmsyarj5   \n",
       "\n",
       "   retail_price  discounted_price  \\\n",
       "0         999.0             379.0   \n",
       "1       32157.0           22646.0   \n",
       "2         999.0             499.0   \n",
       "3         699.0             267.0   \n",
       "4         220.0             210.0   \n",
       "\n",
       "                                               image  is_FK_Advantage_product  \\\n",
       "0  [\"http://img5a.flixcart.com/image/short/u/4/a/...                    False   \n",
       "1  [\"http://img6a.flixcart.com/image/sofa-bed/j/f...                    False   \n",
       "2  [\"http://img5a.flixcart.com/image/shoe/7/z/z/r...                    False   \n",
       "3  [\"http://img5a.flixcart.com/image/short/6/2/h/...                    False   \n",
       "4  [\"http://img5a.flixcart.com/image/pet-shampoo/...                    False   \n",
       "\n",
       "                                         description       product_rating  \\\n",
       "0  key features of alisha solid women's cycling s...  no rating available   \n",
       "1  fabhomedecor fabric double sofa bed (finish co...  no rating available   \n",
       "2  key features of aw bellies sandals wedges heel...  no rating available   \n",
       "3  key features of alisha solid women's cycling s...  no rating available   \n",
       "4  specifications of sicons all purpose arnica do...  no rating available   \n",
       "\n",
       "        overall_rating         brand  \\\n",
       "0  no rating available        alisha   \n",
       "1  no rating available  fabhomedecor   \n",
       "2  no rating available            aw   \n",
       "3  no rating available        alisha   \n",
       "4  no rating available        sicons   \n",
       "\n",
       "                              product_specifications  \n",
       "0  {\"product_specification\"=>[{\"key\"=>\"number of ...  \n",
       "1  {\"product_specification\"=>[{\"key\"=>\"installati...  \n",
       "2  {\"product_specification\"=>[{\"key\"=>\"ideal for\"...  \n",
       "3  {\"product_specification\"=>[{\"key\"=>\"number of ...  \n",
       "4  {\"product_specification\"=>[{\"key\"=>\"pet type\",...  "
      ]
     },
     "execution_count": 12,
     "metadata": {},
     "output_type": "execute_result"
    }
   ],
   "source": [
    "df.head()"
   ]
  },
  {
   "cell_type": "markdown",
   "id": "5a65675d",
   "metadata": {},
   "source": [
    "## Visualisation"
   ]
  },
  {
   "cell_type": "code",
   "execution_count": 16,
   "id": "26e930f0",
   "metadata": {},
   "outputs": [
    {
     "data": {
      "image/png": "[encoded data removed]",
      "text/plain": [
       "<Figure size 576x360 with 1 Axes>"
      ]
     },
     "metadata": {
      "needs_background": "light"
     },
     "output_type": "display_data"
    }
   ],
   "source": [
    "# Convert overall_rating to numeric, if not already\n",
    "df['overall_rating'] = pd.to_numeric(df['overall_rating'], errors='coerce')\n",
    "\n",
    "# Plot distribution of Overall Ratings\n",
    "plt.figure(figsize=(8, 5))\n",
    "sns.histplot(df['overall_rating'], bins=20, kde=True, color='green')\n",
    "plt.title('Distribution of Overall Ratings')\n",
    "plt.xlabel('Overall Rating')\n",
    "plt.ylabel('Frequency')\n",
    "plt.show()\n"
   ]
  },
  {
   "cell_type": "code",
   "execution_count": 19,
   "id": "e3a8918f",
   "metadata": {},
   "outputs": [
    {
     "data": {
      "image/png": "[encoded data removed]",
      "text/plain": [
       "<Figure size 720x432 with 1 Axes>"
      ]
     },
     "metadata": {
      "needs_background": "light"
     },
     "output_type": "display_data"
    }
   ],
   "source": [
    "# Plot most common brands\n",
    "plt.figure(figsize=(10, 6))\n",
    "\n",
    "df['brand'].value_counts().nlargest(10).plot(kind='bar', color='purple')\n",
    "\n",
    "plt.title('Top 10 Brands by Product Count')\n",
    "plt.xlabel('Brand')\n",
    "plt.ylabel('Count of Products')\n",
    "plt.xticks(rotation=45)\n",
    "\n",
    "plt.show()"
   ]
  },
  {
   "cell_type": "code",
   "execution_count": 20,
   "id": "383e8ed8",
   "metadata": {},
   "outputs": [
    {
     "data": {
      "image/png": "[encoded data removed]",
      "text/plain": [
       "<Figure size 720x432 with 1 Axes>"
      ]
     },
     "metadata": {
      "needs_background": "light"
     },
     "output_type": "display_data"
    }
   ],
   "source": [
    "# Plot most common brands without noname\n",
    "plt.figure(figsize=(10, 6))\n",
    "\n",
    "df['brand'].value_counts().nlargest(10)[1:].plot(kind='bar', color='purple')\n",
    "\n",
    "plt.title('Top 10 Brands by Product Count')\n",
    "plt.xlabel('Brand')\n",
    "plt.ylabel('Count of Products')\n",
    "plt.xticks(rotation=45)\n",
    "\n",
    "plt.show()"
   ]
  },
  {
   "cell_type": "markdown",
   "id": "46c70da5",
   "metadata": {},
   "source": [
    "## User-Based Collaborative Filtering (KNN)"
   ]
  },
  {
   "cell_type": "code",
   "execution_count": 24,
   "id": "6374385a",
   "metadata": {},
   "outputs": [],
   "source": [
    "# Create user-item interaction matrix (simulated with 'pid' and 'overall_rating')\n",
    "user_item_matrix = df.pivot_table(index='uniq_id', columns='pid', values='overall_rating')\n",
    "\n",
    "# Fill missing values with 0 (no interaction)\n",
    "user_item_matrix = user_item_matrix.fillna(0)"
   ]
  },
  {
   "cell_type": "code",
   "execution_count": 48,
   "id": "90600eb7",
   "metadata": {},
   "outputs": [
    {
     "name": "stdout",
     "output_type": "stream",
     "text": [
      "Similar Users to User fa6d8b59e6471167971fa7ebc78e3594: Index(['fa6d8b59e6471167971fa7ebc78e3594', 'adff8f8d976cfed97f8a6408f651e74a',\n",
      "       'ae19a81b730b48b87ca72521af8fb902', 'ae03731c3482a5e42d040dbf723c49af',\n",
      "       'ae3fad1fc6656b1dee010f9a0cc1817d'],\n",
      "      dtype='object', name='uniq_id')\n"
     ]
    },
    {
     "name": "stderr",
     "output_type": "stream",
     "text": [
      "/home/rewood/anaconda3/lib/python3.9/site-packages/sklearn/base.py:450: UserWarning: X does not have valid feature names, but NearestNeighbors was fitted with feature names\n",
      "  warnings.warn(\n"
     ]
    }
   ],
   "source": [
    "# Create a KNN model for user-based collaborative filtering\n",
    "knn = NearestNeighbors(metric='cosine', algorithm='brute')\n",
    "knn.fit(user_item_matrix)\n",
    "\n",
    "# Choose a random user to get recommendations\n",
    "user_index = np.random.choice(user_item_matrix.index)\n",
    "\n",
    "# Find similar users to the chosen user\n",
    "distances, indices = knn.kneighbors([user_item_matrix.loc[user_index]], n_neighbors=5)\n",
    "\n",
    "# Print similar users\n",
    "similar_users = user_item_matrix.index[indices.flatten()]\n",
    "print(\"Similar Users to User {}: {}\".format(user_index, similar_users))"
   ]
  },
  {
   "cell_type": "markdown",
   "id": "48dbd96b",
   "metadata": {},
   "source": [
    "## Item-Based Collaborative Filtering (Cosine Similarity)"
   ]
  },
  {
   "cell_type": "code",
   "execution_count": 28,
   "id": "295ec7aa",
   "metadata": {},
   "outputs": [],
   "source": [
    "# Transpose the user-item matrix to have items as rows\n",
    "item_user_matrix = user_item_matrix.T\n",
    "\n",
    "# Compute cosine similarity between items\n",
    "item_similarity = cosine_similarity(item_user_matrix)\n",
    "\n",
    "# Convert to a DataFrame for better visualization\n",
    "item_similarity_df = pd.DataFrame(item_similarity, index=item_user_matrix.index, columns=item_user_matrix.index)\n"
   ]
  },
  {
   "cell_type": "code",
   "execution_count": 29,
   "id": "3c42bcf9",
   "metadata": {},
   "outputs": [
    {
     "name": "stdout",
     "output_type": "stream",
     "text": [
      "Products similar to watdtwrzksxqcxdp: \n",
      "pid\n",
      "watdtwrzksxqcxdp    1.0\n",
      "acbea4494gnxg3tz    0.0\n",
      "shte6gkktz3mfzth    0.0\n",
      "shte6yvvzauucukp    0.0\n",
      "shte6y46vsvgnz4k    0.0\n",
      "Name: watdtwrzksxqcxdp, dtype: float64\n"
     ]
    }
   ],
   "source": [
    "# Choose a random product (or a specific one)\n",
    "chosen_product = np.random.choice(item_user_matrix.index)\n",
    "\n",
    "# Get the most similar products\n",
    "similar_products = item_similarity_df[chosen_product].sort_values(ascending=False).head(5)\n",
    "\n",
    "print(\"Products similar to {}: \\n{}\".format(chosen_product, similar_products))\n"
   ]
  },
  {
   "cell_type": "markdown",
   "id": "c5d6194f",
   "metadata": {},
   "source": [
    "## Content-Based Filtering (Using Descriptions)"
   ]
  },
  {
   "cell_type": "code",
   "execution_count": 30,
   "id": "9d54eb90",
   "metadata": {},
   "outputs": [],
   "source": [
    "# Vectorize product descriptions using TF-IDF\n",
    "tfidf_vectorizer = TfidfVectorizer(stop_words='english')\n",
    "tfidf_matrix = tfidf_vectorizer.fit_transform(df['description'])\n",
    "\n",
    "# Compute cosine similarity between products based on their descriptions\n",
    "cosine_sim = cosine_similarity(tfidf_matrix, tfidf_matrix)\n",
    "\n",
    "# Convert to DataFrame for better handling\n",
    "cosine_sim_df = pd.DataFrame(cosine_sim, index=df['pid'], columns=df['pid'])\n"
   ]
  },
  {
   "cell_type": "code",
   "execution_count": 31,
   "id": "01955855",
   "metadata": {},
   "outputs": [
    {
     "name": "stdout",
     "output_type": "stream",
     "text": [
      "Products similar to brae6jczavvbxefg based on description: \n",
      "pid\n",
      "brae6jczavvbxefg    1.000000\n",
      "watdvjnatrbf2c3w    0.254630\n",
      "braegjfxuhyzpdwz    0.216208\n",
      "erge865hyzyg3ztx    0.212292\n",
      "braegjfxw54gvefh    0.210372\n",
      "Name: brae6jczavvbxefg, dtype: float64\n"
     ]
    }
   ],
   "source": [
    "# Choose a random product\n",
    "chosen_product_description = np.random.choice(df['pid'])\n",
    "\n",
    "# Get the most similar products based on description\n",
    "similar_products_description = cosine_sim_df[chosen_product_description].sort_values(ascending=False).head(5)\n",
    "\n",
    "print(\"Products similar to {} based on description: \\n{}\".format(chosen_product_description, similar_products_description))\n"
   ]
  },
  {
   "cell_type": "markdown",
   "id": "7146510e",
   "metadata": {},
   "source": [
    "## Visualization of Results"
   ]
  },
  {
   "cell_type": "code",
   "execution_count": 32,
   "id": "7bbdab32",
   "metadata": {},
   "outputs": [
    {
     "data": {
      "image/png": "[encoded data removed]",
      "text/plain": [
       "<Figure size 720x432 with 2 Axes>"
      ]
     },
     "metadata": {
      "needs_background": "light"
     },
     "output_type": "display_data"
    }
   ],
   "source": [
    "# Visualize similarity matrix for a few products\n",
    "plt.figure(figsize=(10, 6))\n",
    "sns.heatmap(item_similarity_df.iloc[:10, :10], annot=True, cmap='coolwarm', xticklabels=False, yticklabels=False)\n",
    "plt.title('Item Similarity Heatmap (First 10 Products)')\n",
    "plt.show()\n"
   ]
  },
  {
   "cell_type": "code",
   "execution_count": 33,
   "id": "6077be24",
   "metadata": {},
   "outputs": [
    {
     "data": {
      "image/png": "[encoded data removed]",
      "text/plain": [
       "<Figure size 720x432 with 2 Axes>"
      ]
     },
     "metadata": {
      "needs_background": "light"
     },
     "output_type": "display_data"
    }
   ],
   "source": [
    "# Visualize the first 10 users and their interactions\n",
    "plt.figure(figsize=(10, 6))\n",
    "sns.heatmap(user_item_matrix.iloc[:10, :10], annot=True, cmap='Blues', xticklabels=False, yticklabels=False)\n",
    "plt.title('User-Item Interaction Matrix (First 10 Users)')\n",
    "plt.show()\n"
   ]
  },
  {
   "cell_type": "code",
   "execution_count": null,
   "id": "0ebf4ec4",
   "metadata": {},
   "outputs": [],
   "source": []
  }
 ],
 "metadata": {
  "kernelspec": {
   "display_name": "Python 3 (ipykernel)",
   "language": "python",
   "name": "python3"
  },
  "language_info": {
   "codemirror_mode": {
    "name": "ipython",
    "version": 3
   },
   "file_extension": ".py",
   "mimetype": "text/x-python",
   "name": "python",
   "nbconvert_exporter": "python",
   "pygments_lexer": "ipython3",
   "version": "3.9.12"
  }
 },
 "nbformat": 4,
 "nbformat_minor": 5
}
